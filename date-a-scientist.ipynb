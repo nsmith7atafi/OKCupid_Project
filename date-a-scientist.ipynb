{
 "cells": [
  {
   "cell_type": "markdown",
   "metadata": {},
   "source": [
    "# Build a Machine Learning Model Capstone Project\n",
    "\n",
    "## OkCupid Date-A-Scientist Project Overview\n",
    "\n",
    "This project analyzes some data from **OKCupid**, an app that focuses on using multiple choice and short answers to match users.  The purpose of this project is to practice formulating questions and implementing machine learning techniques to answer those questions.  \n",
    "\n",
    "### Project Objectives:\n",
    "- Complete a project to add to portfolio\n",
    "- Use Jupyter Notebook to communicate findings\n",
    "- Build, train, and evaluate a machine learning model\n",
    "\n",
    "The **OKCupid** dataset named `profiles.csv` was provided by Codecademy. Other helpful resources will be used in this project, such as `NumPy`, `Pandas`, `Matplotlib`, `Seaborn`, and `Scikit-learn`.  "
   ]
  },
  {
   "cell_type": "code",
   "execution_count": null,
   "metadata": {},
   "outputs": [],
   "source": [
    "import numpy as np\n",
    "import pandas as pd\n",
    "import matplotlib.pyplot as plt\n",
    "import seaborn as sns\n"
   ]
  },
  {
   "cell_type": "code",
   "execution_count": null,
   "metadata": {},
   "outputs": [],
   "source": [
    "# Load the OKCupid dataset \n",
    "profiles = pd.read_csv('profiles.csv', low_memory=False)"
   ]
  },
  {
   "cell_type": "code",
   "execution_count": null,
   "metadata": {},
   "outputs": [],
   "source": [
    "# Convert column 0 to string, handling errors\n",
    "profiles.iloc[:, 0] = profiles.iloc[:, 0].astype(str)\n",
    "\n",
    "# Convert column 17 to float, coercing errors to NaN\n",
    "profiles.iloc[:, 17] = pd.to_numeric(profiles.iloc[:, 17], errors='coerce')\n",
    "\n",
    "# Convert column 18 to string\n",
    "profiles.iloc[:, 18] = profiles.iloc[:, 18].astype(str)\n",
    "\n",
    "profiles.head()"
   ]
  },
  {
   "cell_type": "code",
   "execution_count": null,
   "metadata": {},
   "outputs": [],
   "source": [
    "print(profiles.columns)\n",
    "print(profiles.head())"
   ]
  },
  {
   "cell_type": "code",
   "execution_count": null,
   "metadata": {},
   "outputs": [],
   "source": []
  }
 ],
 "metadata": {
  "kernelspec": {
   "display_name": "Python 3",
   "language": "python",
   "name": "python3"
  },
  "language_info": {
   "codemirror_mode": {
    "name": "ipython",
    "version": 3
   },
   "file_extension": ".py",
   "mimetype": "text/x-python",
   "name": "python",
   "nbconvert_exporter": "python",
   "pygments_lexer": "ipython3",
   "version": "3.12.10"
  }
 },
 "nbformat": 4,
 "nbformat_minor": 4
}
